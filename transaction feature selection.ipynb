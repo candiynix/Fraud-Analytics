{
 "cells": [
  {
   "cell_type": "markdown",
   "metadata": {},
   "source": [
    "This feature selection notebook does a filter followed by a wrapper for a binary dependent variable (binary classification). It's capable of doing the filter on more than one file. The variable files are called vars1.csv, vars2.csv ... Or you can make the input file name(s) anything you want.\n",
    "\n",
    "The filter runs separately on each vars file and keeps the top num_filter variables from each file. If there are more than one vars files we'll again select the top num_filter variables across all the vars.csv files.\n",
    "\n",
    "If balance = 0 the entire files are used. If balance != 0 then balance is the RATIO OF BADS TO GOODS retained for the rest of the feature selection. We keep all the rare class (bads) and downsample the goods. I think in general it's better to keep balance = 0.\n",
    "\n",
    "I've got an annoying warning message from the wrapper and I can't figure out how to get rid of it. If anybody figures this out please send a message to stevecoggeshall@gmail.com"
   ]
  },
  {
   "cell_type": "code",
   "execution_count": 1,
   "metadata": {
    "scrolled": false
   },
   "outputs": [],
   "source": [
    "import pandas as pd\n",
    "import numpy as np\n",
    "import scipy.stats as sps\n",
    "import matplotlib.pyplot as plt\n",
    "import datetime as dt\n",
    "import gc\n",
    "from sklearn.ensemble import RandomForestClassifier\n",
    "from mlxtend.feature_selection import SequentialFeatureSelector as SFS\n",
    "from lightgbm import LGBMClassifier\n",
    "%matplotlib inline\n",
    "start_time = dt.datetime.now()"
   ]
  },
  {
   "cell_type": "code",
   "execution_count": 2,
   "metadata": {},
   "outputs": [],
   "source": [
    "# set some parameters\n",
    "num_files = 1\n",
    "# I recommend set num_filter to be about 10 to 20% of the original # variables\n",
    "num_filter = 250\n",
    "# I recommend set num_wrapper to be about 50, then look for a saturation of the model performance as variables are added\n",
    "# Then you can run it again with num_wrapper just a bit above this saturation point, not more than about twice this saturation number\n",
    "num_wrapper = 30\n",
    "balance = 0\n",
    "detect_rate = .03\n",
    "index_name = 'Recnum'\n",
    "y_name = 'Fraud'\n",
    "good_label = 0\n",
    "bad_label = 1"
   ]
  },
  {
   "cell_type": "markdown",
   "metadata": {},
   "source": [
    "## Run a filter on all the files"
   ]
  },
  {
   "cell_type": "code",
   "execution_count": 3,
   "metadata": {},
   "outputs": [
    {
     "name": "stdout",
     "output_type": "stream",
     "text": [
      "(96397, 1528)\n",
      "********** working on card_vars no BL.csv size is (96397, 1528)\n",
      "(80309, 1527)\n",
      "100\n",
      "200\n",
      "300\n",
      "400\n",
      "500\n",
      "600\n",
      "700\n",
      "800\n",
      "900\n",
      "1000\n",
      "1100\n",
      "1200\n",
      "1300\n",
      "1400\n",
      "1500\n",
      "card_vars no BL.csv                       variable  filter score\n",
      "8                        Fraud      1.000000\n",
      "151  Merch description_total_3      0.625512\n",
      "536        merch_state_total_3      0.614292\n",
      "316         card_merch_total_3      0.614279\n",
      "96            Merchnum_total_3      0.614279\n",
      "142  Merch description_total_1      0.611944\n",
      "131    Merch description_max_0      0.609286\n",
      "481          merch_zip_total_3      0.609191\n",
      "516          merch_state_max_0      0.607813\n",
      "76              Merchnum_max_0      0.607800\n",
      "296           card_merch_max_0      0.607800\n",
      "527        merch_state_total_1      0.607366\n",
      "307         card_merch_total_1      0.607329\n",
      "87            Merchnum_total_1      0.607329\n",
      "472          merch_zip_total_1      0.605188\n",
      "461            merch_zip_max_0      0.603673\n",
      "371           card_zip_total_3      0.602817\n",
      "261          Merch zip_total_3      0.602817\n",
      "41             Cardnum_total_3      0.602348\n",
      "50             Cardnum_total_7      0.600207\n",
      "CPU times: user 42.9 s, sys: 5.3 s, total: 48.2 s\n",
      "Wall time: 48.5 s\n"
     ]
    }
   ],
   "source": [
    "%%time\n",
    "filter_score_df_list = []\n",
    "for i in range(num_files):\n",
    "#     file_name = \"vars\"+str(i+1)+'.csv'\n",
    "    file_name = 'card_vars no BL.csv'\n",
    "    df = pd.read_csv(file_name)\n",
    "    df.drop(columns=['Unnamed: 0'], inplace=True)\n",
    "    print(df.shape)\n",
    "    print(\"********** working on\",file_name,\"size is\",df.shape)\n",
    "    df = df.set_index(index_name) \n",
    "    df = df[df.index <= 83969] # remove the last two months as the out-of-time data (OOT)\n",
    "    df = df[df.index >= 3338] # remove the first 2 weeks of records since their variables aren't well formed\n",
    "    print(df.shape)\n",
    "    df['RANDOM'] = np.random.ranf(len(df)) # add a random number variable to make sure it doesn't come up as important\n",
    "    goods = df[df[y_name] == good_label]\n",
    "    bads = df[df[y_name] == bad_label]\n",
    "    del df # don't need this file anymore\n",
    "    num_goods = len(goods)\n",
    "    num_bads = len(bads)\n",
    "    num_vars = len(bads.columns)-2\n",
    "    if(balance != 0):\n",
    "        if(i == 0):\n",
    "            num_goods_desired = int(min(num_goods,num_bads*balance))\n",
    "            goods = goods.sample(n=num_goods_desired,random_state=1)\n",
    "            goods_keep = list(goods.index)\n",
    "            goods_keep.sort()\n",
    "    \n",
    "        if(i > 0):\n",
    "            goods = goods.loc[goods_keep] \n",
    "            \n",
    "    df_sampled = pd.concat([goods,bads])\n",
    "    df_sampled.sort_index(inplace=True)\n",
    "    filter_score = pd.DataFrame(np.zeros((num_vars+1,2)))\n",
    "    filter_score.columns = ['variable','filter score']   \n",
    "    j = 0\n",
    "    for column in df_sampled:\n",
    "        filter_score.loc[j,'variable'] = column\n",
    "        filter_score.loc[j,'filter score'] = sps.ks_2samp(goods[column],bads[column])[0]\n",
    "        j = j+1\n",
    "        if j%100 == 0:\n",
    "            print(j)\n",
    "\n",
    "    filter_score.sort_values(by=['filter score'], ascending=False, inplace=True)\n",
    "    vars_keep = list(filter_score['variable'][1:num_filter+1]) \n",
    "    print(file_name,filter_score.head(20))\n",
    "    if(i == 0): # if first time through need to initialize some stuff\n",
    "        Y = pd.DataFrame(df_sampled[y_name], index=df_sampled.index)\n",
    "        df_top = df_sampled.filter(vars_keep, axis=1)\n",
    "            \n",
    "    if(i > 0): # if more than one variable file we use this loop\n",
    "        data_new_top = df_sampled.filter(vars_keep, axis=1)\n",
    "        df_top = pd.concat([df_top,data_new_top], axis=1)\n",
    "\n",
    "    filter_score_df_list.append(filter_score)\n",
    "    \n",
    "    del goods # delete these before starting the next file, if any\n",
    "    del bads\n",
    "    gc.collect()\n",
    "filter_score = pd.concat(filter_score_df_list)"
   ]
  },
  {
   "cell_type": "code",
   "execution_count": 4,
   "metadata": {},
   "outputs": [],
   "source": [
    "filter_score.sort_values(by=['filter score'], ascending=False, inplace=True)\n",
    "filter_score.reset_index(drop=True,inplace=True)"
   ]
  },
  {
   "cell_type": "code",
   "execution_count": 5,
   "metadata": {},
   "outputs": [
    {
     "data": {
      "text/html": [
       "<div>\n",
       "<style scoped>\n",
       "    .dataframe tbody tr th:only-of-type {\n",
       "        vertical-align: middle;\n",
       "    }\n",
       "\n",
       "    .dataframe tbody tr th {\n",
       "        vertical-align: top;\n",
       "    }\n",
       "\n",
       "    .dataframe thead th {\n",
       "        text-align: right;\n",
       "    }\n",
       "</style>\n",
       "<table border=\"1\" class=\"dataframe\">\n",
       "  <thead>\n",
       "    <tr style=\"text-align: right;\">\n",
       "      <th></th>\n",
       "      <th>variable</th>\n",
       "      <th>filter score</th>\n",
       "    </tr>\n",
       "  </thead>\n",
       "  <tbody>\n",
       "    <tr>\n",
       "      <th>0</th>\n",
       "      <td>Fraud</td>\n",
       "      <td>1.000000</td>\n",
       "    </tr>\n",
       "    <tr>\n",
       "      <th>1</th>\n",
       "      <td>Merch description_total_3</td>\n",
       "      <td>0.625512</td>\n",
       "    </tr>\n",
       "    <tr>\n",
       "      <th>2</th>\n",
       "      <td>merch_state_total_3</td>\n",
       "      <td>0.614292</td>\n",
       "    </tr>\n",
       "    <tr>\n",
       "      <th>3</th>\n",
       "      <td>Merchnum_total_3</td>\n",
       "      <td>0.614279</td>\n",
       "    </tr>\n",
       "    <tr>\n",
       "      <th>4</th>\n",
       "      <td>card_merch_total_3</td>\n",
       "      <td>0.614279</td>\n",
       "    </tr>\n",
       "    <tr>\n",
       "      <th>5</th>\n",
       "      <td>Merch description_total_1</td>\n",
       "      <td>0.611944</td>\n",
       "    </tr>\n",
       "    <tr>\n",
       "      <th>6</th>\n",
       "      <td>Merch description_max_0</td>\n",
       "      <td>0.609286</td>\n",
       "    </tr>\n",
       "    <tr>\n",
       "      <th>7</th>\n",
       "      <td>merch_zip_total_3</td>\n",
       "      <td>0.609191</td>\n",
       "    </tr>\n",
       "    <tr>\n",
       "      <th>8</th>\n",
       "      <td>merch_state_max_0</td>\n",
       "      <td>0.607813</td>\n",
       "    </tr>\n",
       "    <tr>\n",
       "      <th>9</th>\n",
       "      <td>Merchnum_max_0</td>\n",
       "      <td>0.607800</td>\n",
       "    </tr>\n",
       "    <tr>\n",
       "      <th>10</th>\n",
       "      <td>card_merch_max_0</td>\n",
       "      <td>0.607800</td>\n",
       "    </tr>\n",
       "    <tr>\n",
       "      <th>11</th>\n",
       "      <td>merch_state_total_1</td>\n",
       "      <td>0.607366</td>\n",
       "    </tr>\n",
       "    <tr>\n",
       "      <th>12</th>\n",
       "      <td>card_merch_total_1</td>\n",
       "      <td>0.607329</td>\n",
       "    </tr>\n",
       "    <tr>\n",
       "      <th>13</th>\n",
       "      <td>Merchnum_total_1</td>\n",
       "      <td>0.607329</td>\n",
       "    </tr>\n",
       "    <tr>\n",
       "      <th>14</th>\n",
       "      <td>merch_zip_total_1</td>\n",
       "      <td>0.605188</td>\n",
       "    </tr>\n",
       "    <tr>\n",
       "      <th>15</th>\n",
       "      <td>merch_zip_max_0</td>\n",
       "      <td>0.603673</td>\n",
       "    </tr>\n",
       "    <tr>\n",
       "      <th>16</th>\n",
       "      <td>card_zip_total_3</td>\n",
       "      <td>0.602817</td>\n",
       "    </tr>\n",
       "    <tr>\n",
       "      <th>17</th>\n",
       "      <td>Merch zip_total_3</td>\n",
       "      <td>0.602817</td>\n",
       "    </tr>\n",
       "    <tr>\n",
       "      <th>18</th>\n",
       "      <td>Cardnum_total_3</td>\n",
       "      <td>0.602348</td>\n",
       "    </tr>\n",
       "    <tr>\n",
       "      <th>19</th>\n",
       "      <td>Cardnum_total_7</td>\n",
       "      <td>0.600207</td>\n",
       "    </tr>\n",
       "    <tr>\n",
       "      <th>20</th>\n",
       "      <td>card_zip_total_1</td>\n",
       "      <td>0.599843</td>\n",
       "    </tr>\n",
       "    <tr>\n",
       "      <th>21</th>\n",
       "      <td>Merch zip_total_1</td>\n",
       "      <td>0.599843</td>\n",
       "    </tr>\n",
       "    <tr>\n",
       "      <th>22</th>\n",
       "      <td>Merch description_max_1</td>\n",
       "      <td>0.597718</td>\n",
       "    </tr>\n",
       "    <tr>\n",
       "      <th>23</th>\n",
       "      <td>Merch state_actual/avg_30</td>\n",
       "      <td>0.596906</td>\n",
       "    </tr>\n",
       "    <tr>\n",
       "      <th>24</th>\n",
       "      <td>card_state_actual/avg_30</td>\n",
       "      <td>0.596906</td>\n",
       "    </tr>\n",
       "    <tr>\n",
       "      <th>25</th>\n",
       "      <td>card_state_variability_avg_30</td>\n",
       "      <td>0.593994</td>\n",
       "    </tr>\n",
       "    <tr>\n",
       "      <th>26</th>\n",
       "      <td>Merch state_variability_avg_30</td>\n",
       "      <td>0.593994</td>\n",
       "    </tr>\n",
       "    <tr>\n",
       "      <th>27</th>\n",
       "      <td>merch_state_max_1</td>\n",
       "      <td>0.592656</td>\n",
       "    </tr>\n",
       "    <tr>\n",
       "      <th>28</th>\n",
       "      <td>card_merch_max_1</td>\n",
       "      <td>0.592643</td>\n",
       "    </tr>\n",
       "    <tr>\n",
       "      <th>29</th>\n",
       "      <td>Merchnum_max_1</td>\n",
       "      <td>0.592643</td>\n",
       "    </tr>\n",
       "  </tbody>\n",
       "</table>\n",
       "</div>"
      ],
      "text/plain": [
       "                          variable  filter score\n",
       "0                            Fraud      1.000000\n",
       "1        Merch description_total_3      0.625512\n",
       "2              merch_state_total_3      0.614292\n",
       "3                 Merchnum_total_3      0.614279\n",
       "4               card_merch_total_3      0.614279\n",
       "5        Merch description_total_1      0.611944\n",
       "6          Merch description_max_0      0.609286\n",
       "7                merch_zip_total_3      0.609191\n",
       "8                merch_state_max_0      0.607813\n",
       "9                   Merchnum_max_0      0.607800\n",
       "10                card_merch_max_0      0.607800\n",
       "11             merch_state_total_1      0.607366\n",
       "12              card_merch_total_1      0.607329\n",
       "13                Merchnum_total_1      0.607329\n",
       "14               merch_zip_total_1      0.605188\n",
       "15                 merch_zip_max_0      0.603673\n",
       "16                card_zip_total_3      0.602817\n",
       "17               Merch zip_total_3      0.602817\n",
       "18                 Cardnum_total_3      0.602348\n",
       "19                 Cardnum_total_7      0.600207\n",
       "20                card_zip_total_1      0.599843\n",
       "21               Merch zip_total_1      0.599843\n",
       "22         Merch description_max_1      0.597718\n",
       "23       Merch state_actual/avg_30      0.596906\n",
       "24        card_state_actual/avg_30      0.596906\n",
       "25   card_state_variability_avg_30      0.593994\n",
       "26  Merch state_variability_avg_30      0.593994\n",
       "27               merch_state_max_1      0.592656\n",
       "28                card_merch_max_1      0.592643\n",
       "29                  Merchnum_max_1      0.592643"
      ]
     },
     "execution_count": 5,
     "metadata": {},
     "output_type": "execute_result"
    }
   ],
   "source": [
    "filter_score.head(30)"
   ]
  },
  {
   "cell_type": "code",
   "execution_count": 6,
   "metadata": {},
   "outputs": [
    {
     "data": {
      "text/html": [
       "<div>\n",
       "<style scoped>\n",
       "    .dataframe tbody tr th:only-of-type {\n",
       "        vertical-align: middle;\n",
       "    }\n",
       "\n",
       "    .dataframe tbody tr th {\n",
       "        vertical-align: top;\n",
       "    }\n",
       "\n",
       "    .dataframe thead th {\n",
       "        text-align: right;\n",
       "    }\n",
       "</style>\n",
       "<table border=\"1\" class=\"dataframe\">\n",
       "  <thead>\n",
       "    <tr style=\"text-align: right;\">\n",
       "      <th></th>\n",
       "      <th>variable</th>\n",
       "      <th>filter score</th>\n",
       "    </tr>\n",
       "  </thead>\n",
       "  <tbody>\n",
       "    <tr>\n",
       "      <th>1518</th>\n",
       "      <td>Merch state_unique_count_for_card_state_3</td>\n",
       "      <td>0.0</td>\n",
       "    </tr>\n",
       "    <tr>\n",
       "      <th>1519</th>\n",
       "      <td>Merch state_unique_count_for_card_state_7</td>\n",
       "      <td>0.0</td>\n",
       "    </tr>\n",
       "    <tr>\n",
       "      <th>1520</th>\n",
       "      <td>Merch state_unique_count_for_card_state_14</td>\n",
       "      <td>0.0</td>\n",
       "    </tr>\n",
       "    <tr>\n",
       "      <th>1521</th>\n",
       "      <td>Merch state_unique_count_for_card_state_30</td>\n",
       "      <td>0.0</td>\n",
       "    </tr>\n",
       "    <tr>\n",
       "      <th>1522</th>\n",
       "      <td>Merch zip_card_zip_nunique</td>\n",
       "      <td>0.0</td>\n",
       "    </tr>\n",
       "    <tr>\n",
       "      <th>1523</th>\n",
       "      <td>merch_state_unique_count_for_card_state_7</td>\n",
       "      <td>0.0</td>\n",
       "    </tr>\n",
       "    <tr>\n",
       "      <th>1524</th>\n",
       "      <td>merch_state_unique_count_for_Merchnum_60</td>\n",
       "      <td>0.0</td>\n",
       "    </tr>\n",
       "    <tr>\n",
       "      <th>1525</th>\n",
       "      <td>merch_state_unique_count_for_card_state_30</td>\n",
       "      <td>0.0</td>\n",
       "    </tr>\n",
       "    <tr>\n",
       "      <th>1526</th>\n",
       "      <td>card_zip_unique_count_for_Merch zip_7</td>\n",
       "      <td>0.0</td>\n",
       "    </tr>\n",
       "    <tr>\n",
       "      <th>1527</th>\n",
       "      <td>merch_zip_unique_count_for_card_zip_14</td>\n",
       "      <td>0.0</td>\n",
       "    </tr>\n",
       "  </tbody>\n",
       "</table>\n",
       "</div>"
      ],
      "text/plain": [
       "                                        variable  filter score\n",
       "1518   Merch state_unique_count_for_card_state_3           0.0\n",
       "1519   Merch state_unique_count_for_card_state_7           0.0\n",
       "1520  Merch state_unique_count_for_card_state_14           0.0\n",
       "1521  Merch state_unique_count_for_card_state_30           0.0\n",
       "1522                  Merch zip_card_zip_nunique           0.0\n",
       "1523   merch_state_unique_count_for_card_state_7           0.0\n",
       "1524    merch_state_unique_count_for_Merchnum_60           0.0\n",
       "1525  merch_state_unique_count_for_card_state_30           0.0\n",
       "1526       card_zip_unique_count_for_Merch zip_7           0.0\n",
       "1527      merch_zip_unique_count_for_card_zip_14           0.0"
      ]
     },
     "execution_count": 6,
     "metadata": {},
     "output_type": "execute_result"
    }
   ],
   "source": [
    "filter_score.tail(10)"
   ]
  },
  {
   "cell_type": "code",
   "execution_count": 7,
   "metadata": {},
   "outputs": [
    {
     "data": {
      "text/plain": [
       "(1528, 2)"
      ]
     },
     "execution_count": 7,
     "metadata": {},
     "output_type": "execute_result"
    }
   ],
   "source": [
    "filter_score.shape"
   ]
  },
  {
   "cell_type": "code",
   "execution_count": 8,
   "metadata": {},
   "outputs": [
    {
     "name": "stdout",
     "output_type": "stream",
     "text": [
      "0  vars_keep: ['Merch description_total_3', 'merch_state_total_3', 'Merchnum_total_3', 'card_merch_total_3', 'Merch description_total_1', 'Merch description_max_0', 'merch_zip_total_3', 'merch_state_max_0', 'Merchnum_max_0', 'card_merch_max_0', 'merch_state_total_1', 'card_merch_total_1', 'Merchnum_total_1', 'merch_zip_total_1', 'merch_zip_max_0', 'card_zip_total_3', 'Merch zip_total_3', 'Cardnum_total_3', 'Cardnum_total_7', 'card_zip_total_1', 'Merch zip_total_1', 'Merch description_max_1', 'Merch state_actual/avg_30', 'card_state_actual/avg_30', 'card_state_variability_avg_30', 'Merch state_variability_avg_30', 'merch_state_max_1', 'card_merch_max_1', 'Merchnum_max_1', 'merch_zip_max_1', 'Merch description_max_3', 'Merch zip_max_0', 'card_zip_max_0', 'Cardnum_max_0', 'merch_state_total_7', 'Merchnum_total_7', 'card_merch_total_7', 'merch_state_avg_0', 'card_merch_avg_0', 'Merchnum_avg_0', 'Merch state_actual/med_30', 'card_state_actual/med_30', 'merch_state_total_0', 'Merchnum_total_0', 'card_merch_total_0', 'Merch description_total_0', 'merch_zip_avg_0', 'merch_state_max_3', 'card_merch_max_3', 'Merchnum_max_3', 'merch_zip_max_3', 'merch_zip_total_7', 'merch_zip_total_0', 'Merch description_avg_0', 'Merch description_total_7', 'Merch zip_total_0', 'card_zip_total_0', 'merch_state_avg_1', 'Merchnum_avg_1', 'card_merch_avg_1', 'Cardnum_total_1', 'merch_zip_avg_1', 'Cardnum_avg_1', 'Cardnum_total_0', 'Cardnum_max_1', 'Cardnum_avg_0', 'Cardnum_avg_3', 'Merch description_avg_1', 'card_state_actual/avg_14', 'Merch state_actual/avg_14', 'merch_state_avg_3', 'Merchnum_avg_3', 'card_merch_avg_3', 'merch_zip_avg_3', 'Cardnum_max_3', 'Merch state_variability_med_30', 'card_state_variability_med_30', 'Cardnum_max_7', 'Merch zip_avg_0', 'card_zip_avg_0', 'Cardnum_med_0', 'Cardnum_med_1', 'card_state_variability_avg_14', 'Merch state_variability_avg_14', 'card_zip_max_1', 'Merch zip_max_1', 'Merch description_avg_3', 'card_state_variability_med_14', 'Merch state_variability_med_14', 'card_state_actual/med_14', 'Merch state_actual/med_14', 'Merch description_max_7', 'card_zip_max_3', 'Merch zip_max_3', 'merch_state_max_7', 'card_merch_max_7', 'Merchnum_max_7', 'Amount', 'Cardnum_total_14', 'Cardnum_avg_7', 'merch_zip_max_7', 'card_zip_total_7', 'Merch zip_total_7', 'amount_cat', 'Cardnum_med_3', 'Merch description_total_14', 'merch_zip_med_0', 'merch_state_med_0', 'card_merch_med_0', 'Merchnum_med_0', 'Merch state_actual/avg_7', 'card_state_actual/avg_7', 'Merch description_med_0', 'card_state_variability_med_7', 'Merch state_variability_med_7', 'card_state_actual/max_30', 'Merch state_actual/max_30', 'Cardnum_avg_14', 'merch_state_avg_7', 'card_merch_avg_7', 'Merchnum_avg_7', 'merch_zip_avg_7', 'card_state_variability_avg_7', 'Merch state_variability_avg_7', 'Merch zip_avg_1', 'card_zip_avg_1', 'Cardnum_max_14', 'card_zip_med_0', 'Merch zip_med_0', 'Merch description_max_14', 'card_zip_max_7', 'Merch zip_max_7', 'merch_state_max_14', 'Merchnum_max_14', 'card_merch_max_14', 'merch_zip_max_14', 'card_state_actual/max_14', 'Merch state_actual/max_14', 'Merch state_variability_avg_3', 'card_state_variability_avg_3', 'card_zip_avg_3', 'Merch zip_avg_3', 'Merch state_actual/med_7', 'card_state_actual/med_7', 'Merch description_avg_7', 'Cardnum_avg_30', 'merch_zip_med_1', 'Merch state_actual/avg_3', 'card_state_actual/avg_3', 'card_merch_med_1', 'merch_state_med_1', 'Merchnum_med_1', 'Cardnum_max_30', 'Merch description_med_1', 'Merch description_total_30', 'Merch state_variability_med_3', 'card_state_variability_med_3', 'merch_zip_avg_14', 'merch_state_avg_14', 'card_merch_avg_14', 'Merchnum_avg_14', 'card_state_actual/max_3', 'Merch state_actual/max_3', 'merch_state_med_3', 'card_merch_med_3', 'Merchnum_med_3', 'merch_zip_med_3', 'Merch description_med_3', 'Cardnum_total_30', 'Merch description_avg_14', 'Cardnum_med_7', 'Cardnum_med_14', 'Merch description_max_30', 'Merch state_actual/max_7', 'card_state_actual/max_7', 'merch_state_total_14', 'card_merch_total_14', 'Merchnum_total_14', 'card_zip_max_14', 'Merch zip_max_14', 'merch_state_max_30', 'card_merch_max_30', 'Merchnum_max_30', 'card_state_avg_0', 'Merch state_avg_0', 'merch_zip_max_30', 'merch_zip_total_14', 'Merch zip_avg_7', 'card_zip_avg_7', 'Merch state_variability_avg_1', 'card_state_variability_avg_1', 'Merch state_actual/max_1', 'card_state_actual/max_1', 'Merch zip_variability_avg_30', 'card_zip_variability_avg_30', 'card_state_actual/avg_1', 'Merch state_actual/avg_1', 'Merch zip_med_1', 'card_zip_med_1', 'Merch state_actual/toal_30', 'card_state_actual/toal_30', 'Merch description_avg_30', 'card_state_actual/toal_14', 'Merch state_actual/toal_14', 'Cardnum_med_30', 'merch_state_avg_30', 'card_merch_avg_30', 'Merchnum_avg_30', 'merch_zip_avg_30', 'Merch description_med_7', 'merch_state_med_7', 'card_merch_med_7', 'Merchnum_med_7', 'merch_zip_med_7', 'card_zip_actual/avg_30', 'Merch zip_actual/avg_30', 'card_state_actual/med_3', 'Merch state_actual/med_3', 'card_zip_variability_med_30', 'Merch zip_variability_med_30', 'card_zip_avg_14', 'Merch zip_avg_14', 'card_zip_max_30', 'Merch zip_max_30', 'merch_state_total_30', 'card_merch_total_30', 'Merchnum_total_30', 'merch_zip_total_30', 'Merch state_actual/toal_7', 'card_state_actual/toal_7', 'card_zip_total_14', 'Merch zip_total_14', 'Merchnum_med_14', 'card_merch_med_14', 'merch_state_med_14', 'merch_zip_med_14', 'Merch zip_med_3', 'card_zip_med_3', 'merch_state_variability_med_30', 'Merchnum_variability_med_30', 'card_merch_variability_med_30', 'Merch description_med_14', 'Merch state_variability_med_1', 'card_state_variability_med_1', 'merch_zip_med_30', 'Merchnum_med_30', 'card_merch_med_30', 'merch_state_med_30', 'merch_zip_variability_med_30', 'card_state_med_0', 'Merch state_med_0', 'Merch description_med_30']\n"
     ]
    }
   ],
   "source": [
    "filter_score.head(80).to_csv('filter_top.csv')\n",
    "vars_keep = list(filter_score['variable'][num_files:num_filter+3])\n",
    "print(i,' vars_keep:',vars_keep)"
   ]
  },
  {
   "cell_type": "code",
   "execution_count": 9,
   "metadata": {
    "scrolled": false
   },
   "outputs": [
    {
     "data": {
      "text/html": [
       "<div>\n",
       "<style scoped>\n",
       "    .dataframe tbody tr th:only-of-type {\n",
       "        vertical-align: middle;\n",
       "    }\n",
       "\n",
       "    .dataframe tbody tr th {\n",
       "        vertical-align: top;\n",
       "    }\n",
       "\n",
       "    .dataframe thead th {\n",
       "        text-align: right;\n",
       "    }\n",
       "</style>\n",
       "<table border=\"1\" class=\"dataframe\">\n",
       "  <thead>\n",
       "    <tr style=\"text-align: right;\">\n",
       "      <th></th>\n",
       "      <th>Merch description_total_3</th>\n",
       "      <th>merch_state_total_3</th>\n",
       "      <th>Merchnum_total_3</th>\n",
       "      <th>card_merch_total_3</th>\n",
       "      <th>Merch description_total_1</th>\n",
       "      <th>Merch description_max_0</th>\n",
       "      <th>merch_zip_total_3</th>\n",
       "      <th>merch_state_max_0</th>\n",
       "      <th>Merchnum_max_0</th>\n",
       "      <th>card_merch_max_0</th>\n",
       "      <th>...</th>\n",
       "      <th>card_merch_variability_med_30</th>\n",
       "      <th>Merch description_med_14</th>\n",
       "      <th>Merch state_variability_med_1</th>\n",
       "      <th>card_state_variability_med_1</th>\n",
       "      <th>merch_zip_med_30</th>\n",
       "      <th>Merchnum_med_30</th>\n",
       "      <th>card_merch_med_30</th>\n",
       "      <th>merch_state_med_30</th>\n",
       "      <th>merch_zip_variability_med_30</th>\n",
       "      <th>card_state_med_0</th>\n",
       "    </tr>\n",
       "    <tr>\n",
       "      <th>Recnum</th>\n",
       "      <th></th>\n",
       "      <th></th>\n",
       "      <th></th>\n",
       "      <th></th>\n",
       "      <th></th>\n",
       "      <th></th>\n",
       "      <th></th>\n",
       "      <th></th>\n",
       "      <th></th>\n",
       "      <th></th>\n",
       "      <th></th>\n",
       "      <th></th>\n",
       "      <th></th>\n",
       "      <th></th>\n",
       "      <th></th>\n",
       "      <th></th>\n",
       "      <th></th>\n",
       "      <th></th>\n",
       "      <th></th>\n",
       "      <th></th>\n",
       "      <th></th>\n",
       "    </tr>\n",
       "  </thead>\n",
       "  <tbody>\n",
       "    <tr>\n",
       "      <th>3338</th>\n",
       "      <td>150.75</td>\n",
       "      <td>150.75</td>\n",
       "      <td>150.75</td>\n",
       "      <td>150.75</td>\n",
       "      <td>36.9</td>\n",
       "      <td>36.9</td>\n",
       "      <td>150.75</td>\n",
       "      <td>36.9</td>\n",
       "      <td>36.9</td>\n",
       "      <td>36.9</td>\n",
       "      <td>...</td>\n",
       "      <td>38.475</td>\n",
       "      <td>75.375</td>\n",
       "      <td>158.990</td>\n",
       "      <td>158.990</td>\n",
       "      <td>75.375</td>\n",
       "      <td>75.375</td>\n",
       "      <td>75.375</td>\n",
       "      <td>75.375</td>\n",
       "      <td>38.475</td>\n",
       "      <td>220.000</td>\n",
       "    </tr>\n",
       "    <tr>\n",
       "      <th>3339</th>\n",
       "      <td>590.00</td>\n",
       "      <td>590.00</td>\n",
       "      <td>590.00</td>\n",
       "      <td>590.00</td>\n",
       "      <td>590.0</td>\n",
       "      <td>590.0</td>\n",
       "      <td>590.00</td>\n",
       "      <td>590.0</td>\n",
       "      <td>590.0</td>\n",
       "      <td>590.0</td>\n",
       "      <td>...</td>\n",
       "      <td>0.000</td>\n",
       "      <td>590.000</td>\n",
       "      <td>-302.110</td>\n",
       "      <td>-302.110</td>\n",
       "      <td>590.000</td>\n",
       "      <td>590.000</td>\n",
       "      <td>590.000</td>\n",
       "      <td>590.000</td>\n",
       "      <td>0.000</td>\n",
       "      <td>344.975</td>\n",
       "    </tr>\n",
       "    <tr>\n",
       "      <th>3340</th>\n",
       "      <td>120.00</td>\n",
       "      <td>120.00</td>\n",
       "      <td>120.00</td>\n",
       "      <td>120.00</td>\n",
       "      <td>120.0</td>\n",
       "      <td>120.0</td>\n",
       "      <td>120.00</td>\n",
       "      <td>120.0</td>\n",
       "      <td>120.0</td>\n",
       "      <td>120.0</td>\n",
       "      <td>...</td>\n",
       "      <td>0.000</td>\n",
       "      <td>120.000</td>\n",
       "      <td>83.945</td>\n",
       "      <td>83.945</td>\n",
       "      <td>120.000</td>\n",
       "      <td>120.000</td>\n",
       "      <td>120.000</td>\n",
       "      <td>120.000</td>\n",
       "      <td>0.000</td>\n",
       "      <td>120.000</td>\n",
       "    </tr>\n",
       "    <tr>\n",
       "      <th>3341</th>\n",
       "      <td>545.00</td>\n",
       "      <td>545.00</td>\n",
       "      <td>545.00</td>\n",
       "      <td>545.00</td>\n",
       "      <td>545.0</td>\n",
       "      <td>545.0</td>\n",
       "      <td>545.00</td>\n",
       "      <td>545.0</td>\n",
       "      <td>545.0</td>\n",
       "      <td>545.0</td>\n",
       "      <td>...</td>\n",
       "      <td>0.000</td>\n",
       "      <td>545.000</td>\n",
       "      <td>-265.000</td>\n",
       "      <td>-265.000</td>\n",
       "      <td>545.000</td>\n",
       "      <td>545.000</td>\n",
       "      <td>545.000</td>\n",
       "      <td>545.000</td>\n",
       "      <td>0.000</td>\n",
       "      <td>290.000</td>\n",
       "    </tr>\n",
       "    <tr>\n",
       "      <th>3342</th>\n",
       "      <td>27442.50</td>\n",
       "      <td>27442.50</td>\n",
       "      <td>27442.50</td>\n",
       "      <td>27442.50</td>\n",
       "      <td>27442.5</td>\n",
       "      <td>2500.0</td>\n",
       "      <td>27442.50</td>\n",
       "      <td>2500.0</td>\n",
       "      <td>2500.0</td>\n",
       "      <td>2500.0</td>\n",
       "      <td>...</td>\n",
       "      <td>-1551.000</td>\n",
       "      <td>925.000</td>\n",
       "      <td>-2221.000</td>\n",
       "      <td>-2221.000</td>\n",
       "      <td>925.000</td>\n",
       "      <td>925.000</td>\n",
       "      <td>925.000</td>\n",
       "      <td>925.000</td>\n",
       "      <td>-1551.000</td>\n",
       "      <td>575.605</td>\n",
       "    </tr>\n",
       "  </tbody>\n",
       "</table>\n",
       "<p>5 rows × 250 columns</p>\n",
       "</div>"
      ],
      "text/plain": [
       "        Merch description_total_3  merch_state_total_3  Merchnum_total_3  \\\n",
       "Recnum                                                                     \n",
       "3338                       150.75               150.75            150.75   \n",
       "3339                       590.00               590.00            590.00   \n",
       "3340                       120.00               120.00            120.00   \n",
       "3341                       545.00               545.00            545.00   \n",
       "3342                     27442.50             27442.50          27442.50   \n",
       "\n",
       "        card_merch_total_3  Merch description_total_1  \\\n",
       "Recnum                                                  \n",
       "3338                150.75                       36.9   \n",
       "3339                590.00                      590.0   \n",
       "3340                120.00                      120.0   \n",
       "3341                545.00                      545.0   \n",
       "3342              27442.50                    27442.5   \n",
       "\n",
       "        Merch description_max_0  merch_zip_total_3  merch_state_max_0  \\\n",
       "Recnum                                                                  \n",
       "3338                       36.9             150.75               36.9   \n",
       "3339                      590.0             590.00              590.0   \n",
       "3340                      120.0             120.00              120.0   \n",
       "3341                      545.0             545.00              545.0   \n",
       "3342                     2500.0           27442.50             2500.0   \n",
       "\n",
       "        Merchnum_max_0  card_merch_max_0  ...  card_merch_variability_med_30  \\\n",
       "Recnum                                    ...                                  \n",
       "3338              36.9              36.9  ...                         38.475   \n",
       "3339             590.0             590.0  ...                          0.000   \n",
       "3340             120.0             120.0  ...                          0.000   \n",
       "3341             545.0             545.0  ...                          0.000   \n",
       "3342            2500.0            2500.0  ...                      -1551.000   \n",
       "\n",
       "        Merch description_med_14  Merch state_variability_med_1  \\\n",
       "Recnum                                                            \n",
       "3338                      75.375                        158.990   \n",
       "3339                     590.000                       -302.110   \n",
       "3340                     120.000                         83.945   \n",
       "3341                     545.000                       -265.000   \n",
       "3342                     925.000                      -2221.000   \n",
       "\n",
       "        card_state_variability_med_1  merch_zip_med_30  Merchnum_med_30  \\\n",
       "Recnum                                                                    \n",
       "3338                         158.990            75.375           75.375   \n",
       "3339                        -302.110           590.000          590.000   \n",
       "3340                          83.945           120.000          120.000   \n",
       "3341                        -265.000           545.000          545.000   \n",
       "3342                       -2221.000           925.000          925.000   \n",
       "\n",
       "        card_merch_med_30  merch_state_med_30  merch_zip_variability_med_30  \\\n",
       "Recnum                                                                        \n",
       "3338               75.375              75.375                        38.475   \n",
       "3339              590.000             590.000                         0.000   \n",
       "3340              120.000             120.000                         0.000   \n",
       "3341              545.000             545.000                         0.000   \n",
       "3342              925.000             925.000                     -1551.000   \n",
       "\n",
       "        card_state_med_0  \n",
       "Recnum                    \n",
       "3338             220.000  \n",
       "3339             344.975  \n",
       "3340             120.000  \n",
       "3341             290.000  \n",
       "3342             575.605  \n",
       "\n",
       "[5 rows x 250 columns]"
      ]
     },
     "execution_count": 9,
     "metadata": {},
     "output_type": "execute_result"
    }
   ],
   "source": [
    "vars_keep_df = pd.DataFrame({'col':vars_keep})\n",
    "vars_keep_df.to_csv('vars_keep_filter.csv',index=False)\n",
    "df_keep = df_top.filter(vars_keep, axis=1)\n",
    "df_keep.head()"
   ]
  },
  {
   "cell_type": "code",
   "execution_count": 10,
   "metadata": {},
   "outputs": [
    {
     "data": {
      "text/plain": [
       "(80309, 250)"
      ]
     },
     "execution_count": 10,
     "metadata": {},
     "output_type": "execute_result"
    }
   ],
   "source": [
    "df_keep.shape"
   ]
  },
  {
   "cell_type": "code",
   "execution_count": 11,
   "metadata": {},
   "outputs": [
    {
     "data": {
      "text/html": [
       "<div>\n",
       "<style scoped>\n",
       "    .dataframe tbody tr th:only-of-type {\n",
       "        vertical-align: middle;\n",
       "    }\n",
       "\n",
       "    .dataframe tbody tr th {\n",
       "        vertical-align: top;\n",
       "    }\n",
       "\n",
       "    .dataframe thead th {\n",
       "        text-align: right;\n",
       "    }\n",
       "</style>\n",
       "<table border=\"1\" class=\"dataframe\">\n",
       "  <thead>\n",
       "    <tr style=\"text-align: right;\">\n",
       "      <th></th>\n",
       "      <th>Fraud</th>\n",
       "    </tr>\n",
       "    <tr>\n",
       "      <th>Recnum</th>\n",
       "      <th></th>\n",
       "    </tr>\n",
       "  </thead>\n",
       "  <tbody>\n",
       "    <tr>\n",
       "      <th>3338</th>\n",
       "      <td>0</td>\n",
       "    </tr>\n",
       "    <tr>\n",
       "      <th>3339</th>\n",
       "      <td>0</td>\n",
       "    </tr>\n",
       "    <tr>\n",
       "      <th>3340</th>\n",
       "      <td>0</td>\n",
       "    </tr>\n",
       "    <tr>\n",
       "      <th>3341</th>\n",
       "      <td>0</td>\n",
       "    </tr>\n",
       "    <tr>\n",
       "      <th>3342</th>\n",
       "      <td>0</td>\n",
       "    </tr>\n",
       "  </tbody>\n",
       "</table>\n",
       "</div>"
      ],
      "text/plain": [
       "        Fraud\n",
       "Recnum       \n",
       "3338        0\n",
       "3339        0\n",
       "3340        0\n",
       "3341        0\n",
       "3342        0"
      ]
     },
     "execution_count": 11,
     "metadata": {},
     "output_type": "execute_result"
    }
   ],
   "source": [
    "Y.head()"
   ]
  },
  {
   "cell_type": "code",
   "execution_count": 12,
   "metadata": {},
   "outputs": [],
   "source": [
    "Y = Y.values\n",
    "Y_save = Y.copy()"
   ]
  },
  {
   "cell_type": "code",
   "execution_count": 13,
   "metadata": {},
   "outputs": [
    {
     "name": "stdout",
     "output_type": "stream",
     "text": [
      "[[0]\n",
      " [0]\n",
      " [0]\n",
      " ...\n",
      " [0]\n",
      " [0]\n",
      " [0]]\n"
     ]
    }
   ],
   "source": [
    "# Y = np.array(Y)\n",
    "X = df_keep\n",
    "print(Y)"
   ]
  },
  {
   "cell_type": "code",
   "execution_count": 14,
   "metadata": {},
   "outputs": [
    {
     "name": "stdout",
     "output_type": "stream",
     "text": [
      "time to here: 0:00:48.983609\n"
     ]
    }
   ],
   "source": [
    "print('time to here:', dt.datetime.now() - start_time)"
   ]
  },
  {
   "cell_type": "code",
   "execution_count": 15,
   "metadata": {},
   "outputs": [
    {
     "name": "stdout",
     "output_type": "stream",
     "text": [
      "(80309, 250) (80309, 1)\n"
     ]
    }
   ],
   "source": [
    "print(X.shape,Y.shape)"
   ]
  },
  {
   "cell_type": "code",
   "execution_count": 16,
   "metadata": {},
   "outputs": [
    {
     "name": "stdout",
     "output_type": "stream",
     "text": [
      "<class 'pandas.core.frame.DataFrame'> <class 'numpy.ndarray'>\n"
     ]
    }
   ],
   "source": [
    "print(type(X),type(Y))"
   ]
  },
  {
   "cell_type": "code",
   "execution_count": 17,
   "metadata": {},
   "outputs": [],
   "source": [
    "# I'd like to define a scoring for the wrapper that's KS, but I haven't gotten around to this yet.\n",
    "# def KSscore(classifier, x,y)\n",
    "#     goods = "
   ]
  },
  {
   "cell_type": "code",
   "execution_count": 18,
   "metadata": {},
   "outputs": [],
   "source": [
    "def fdr(classifier, x, y, cutoff=detect_rate):\n",
    "# Calculates FDR score for the given classifier on dataset x and y with cutoff value\n",
    "# get the probability list from the given classifier\n",
    "    return fdr_prob(y, classifier.predict_proba(x), cutoff)\n",
    "def fdr_prob(y, y_prob, cutoff=detect_rate):\n",
    "    if len(y_prob.shape) != 1:    # sometimes the proba list can contain many columns, one for each category\n",
    "        y_prob = y_prob[:, -1:]   # only the last one (fraud_label==1) is used here.\n",
    "    num_fraud = len(y[y == 1])    # count the total nunber of frauds   \n",
    "# sort the proba list from high to low while retain the true (not predicted) fraud label\n",
    "    sorted_prob = np.asarray(sorted(zip(y_prob, y), key=lambda x: x[0], reverse=True))\n",
    "    cutoff_bin = sorted_prob[0:int(len(y) * cutoff), 1:]  # 3% cutoff\n",
    "# return the FDR score (#fraud_in_cutoff / #total_fraud)\n",
    "    return len(cutoff_bin[cutoff_bin == 1]) / num_fraud   "
   ]
  },
  {
   "cell_type": "markdown",
   "metadata": {},
   "source": [
    "## Run a wrapper on the remaining top variables"
   ]
  },
  {
   "cell_type": "code",
   "execution_count": null,
   "metadata": {
    "scrolled": true
   },
   "outputs": [
    {
     "name": "stderr",
     "output_type": "stream",
     "text": [
      "/Users/xinyizhang/opt/anaconda3/lib/python3.8/site-packages/sklearn/preprocessing/_label.py:99: DataConversionWarning: A column-vector y was passed when a 1d array was expected. Please change the shape of y to (n_samples, ), for example using ravel().\n",
      "  y = column_or_1d(y, warn=True)\n",
      "/Users/xinyizhang/opt/anaconda3/lib/python3.8/site-packages/sklearn/preprocessing/_label.py:134: DataConversionWarning: A column-vector y was passed when a 1d array was expected. Please change the shape of y to (n_samples, ), for example using ravel().\n",
      "  y = column_or_1d(y, dtype=self.classes_.dtype, warn=True)\n",
      "/Users/xinyizhang/opt/anaconda3/lib/python3.8/site-packages/sklearn/preprocessing/_label.py:99: DataConversionWarning: A column-vector y was passed when a 1d array was expected. Please change the shape of y to (n_samples, ), for example using ravel().\n",
      "  y = column_or_1d(y, warn=True)\n",
      "/Users/xinyizhang/opt/anaconda3/lib/python3.8/site-packages/sklearn/preprocessing/_label.py:134: DataConversionWarning: A column-vector y was passed when a 1d array was expected. Please change the shape of y to (n_samples, ), for example using ravel().\n",
      "  y = column_or_1d(y, dtype=self.classes_.dtype, warn=True)\n",
      "/Users/xinyizhang/opt/anaconda3/lib/python3.8/site-packages/sklearn/preprocessing/_label.py:99: DataConversionWarning: A column-vector y was passed when a 1d array was expected. Please change the shape of y to (n_samples, ), for example using ravel().\n",
      "  y = column_or_1d(y, warn=True)\n",
      "/Users/xinyizhang/opt/anaconda3/lib/python3.8/site-packages/sklearn/preprocessing/_label.py:134: DataConversionWarning: A column-vector y was passed when a 1d array was expected. Please change the shape of y to (n_samples, ), for example using ravel().\n",
      "  y = column_or_1d(y, dtype=self.classes_.dtype, warn=True)\n"
     ]
    }
   ],
   "source": [
    "%%time\n",
    "import warnings \n",
    "warnings.filterwarnings(\"ignore\", category=DeprecationWarning) \n",
    "# If you're doing forward selection it's enough to stop at num_wrapper variables. \n",
    "# If you're doing backward selection you need to go through all the variables to get a sorted list of num_wrapper variables.\n",
    "\n",
    "# I can't figure out how to get rid of this annoying warning! I don't know what I'm doing wrong...\n",
    "\n",
    "nfeatures = len(X.columns)\n",
    "# clf = RandomForestClassifier(n_estimators=5) # simple, fast nonlinear model for the wrapper\n",
    "clf = LGBMClassifier(n_estimators=20,num_leaves=3) # simple, fast nonlinear model for the wrapper\n",
    "# sfs = SFS(clf,k_features=num_wrapper,forward=True,verbose=0,scoring=fdr,cv=3,n_jobs=-1) # use for forward selection\n",
    "sfs = SFS(clf,k_features=1,forward=False,verbose=0,scoring=fdr,cv=3,n_jobs=-1) # use for backward selection\n",
    "sfs.fit(X,Y)"
   ]
  },
  {
   "cell_type": "code",
   "execution_count": null,
   "metadata": {},
   "outputs": [],
   "source": [
    "print('time to here:', dt.datetime.now() - start_time)"
   ]
  },
  {
   "cell_type": "code",
   "execution_count": null,
   "metadata": {},
   "outputs": [],
   "source": [
    "from mlxtend.plotting import plot_sequential_feature_selection as plot_sfs\n",
    "fig1 = plot_sfs(sfs.get_metric_dict(),kind='std_dev', figsize=(15, 6))\n",
    "plt.xticks(np.arange(0, len(X.columns), step=5))\n",
    "plt.yticks(np.arange(0,1,step=.1))\n",
    "plt.ylim([0., 1])\n",
    "plt.xlim(0,num_wrapper)\n",
    "plt.title('Stepwise Selection')\n",
    "plt.grid()\n",
    "plt.savefig('performance_nvars.png')\n",
    "plt.show()"
   ]
  },
  {
   "cell_type": "code",
   "execution_count": null,
   "metadata": {
    "scrolled": false
   },
   "outputs": [],
   "source": [
    "vars_FS = pd.DataFrame.from_dict(sfs.get_metric_dict()).T"
   ]
  },
  {
   "cell_type": "code",
   "execution_count": null,
   "metadata": {},
   "outputs": [],
   "source": [
    "ordered_vars_FS = vars_FS.copy()\n",
    "for i in range(len(ordered_vars_FS)):\n",
    "    ordered_vars_FS.loc[i+1,'add variables in this order'] = int(i+1)\n",
    "    if i+1 == 1:\n",
    "        ordered_vars_FS.loc[i+1,'variable name'] = (list(ordered_vars_FS.loc[i+1,'feature_names'])[0])\n",
    "    else:\n",
    "        ordered_vars_FS.loc[i+1,'variable name'] = (list(set(ordered_vars_FS.loc[i+1,'feature_names']) - set(ordered_vars_FS.loc[i,'feature_names'])))\n",
    "# You might also need this following line. It converts a list to a string\n",
    "    ordered_vars_FS.loc[i+1,'variable name'] = ordered_vars_FS.loc[i+1,'variable name'][0]"
   ]
  },
  {
   "cell_type": "code",
   "execution_count": null,
   "metadata": {
    "scrolled": false
   },
   "outputs": [],
   "source": [
    "ordered_vars_FS"
   ]
  },
  {
   "cell_type": "code",
   "execution_count": null,
   "metadata": {},
   "outputs": [],
   "source": [
    "ordered_vars_FS.to_csv('Wrapper_selection_info.csv', index=False)"
   ]
  },
  {
   "cell_type": "code",
   "execution_count": null,
   "metadata": {
    "scrolled": false
   },
   "outputs": [],
   "source": [
    "vars_keep = ordered_vars_FS['variable name']\n",
    "vars_keep_list = ordered_vars_FS['variable name'].tolist()\n",
    "vars_keep.to_csv('final_vars_list.csv',index=False)\n",
    "vars_keep"
   ]
  },
  {
   "cell_type": "code",
   "execution_count": null,
   "metadata": {},
   "outputs": [],
   "source": [
    "filter_score.set_index('variable',drop=True,inplace=True)\n",
    "filter_score = filter_score.iloc[1:,:]\n",
    "filter_score"
   ]
  },
  {
   "cell_type": "code",
   "execution_count": null,
   "metadata": {
    "scrolled": true
   },
   "outputs": [],
   "source": [
    "vars_keep_sorted = pd.DataFrame(vars_keep_list)\n",
    "vars_keep_sorted.columns=['variable']\n",
    "vars_keep_sorted.set_index('variable',drop=True,inplace=True)\n",
    "vars_keep_sorted.head()"
   ]
  },
  {
   "cell_type": "code",
   "execution_count": null,
   "metadata": {
    "scrolled": false
   },
   "outputs": [],
   "source": [
    "vars_keep_sorted = pd.concat([vars_keep_sorted,filter_score],axis=1,join='inner')"
   ]
  },
  {
   "cell_type": "code",
   "execution_count": null,
   "metadata": {
    "scrolled": false
   },
   "outputs": [],
   "source": [
    "vars_keep_sorted.reset_index(inplace=True)\n",
    "vars_keep_sorted.reset_index(inplace=True)\n",
    "vars_keep_sorted['index'] = vars_keep_sorted['index'] + 1\n",
    "vars_keep_sorted.rename(columns={'index':'wrapper order'},inplace=True)\n",
    "vars_keep_sorted.to_csv('vars_keep_sorted.csv',index=False)\n",
    "vars_keep_sorted"
   ]
  },
  {
   "cell_type": "code",
   "execution_count": null,
   "metadata": {
    "scrolled": false
   },
   "outputs": [],
   "source": [
    "vars_keep_list.append(index_name)\n",
    "vars_keep_list.append(y_name)\n",
    "vars_keep_list"
   ]
  },
  {
   "cell_type": "code",
   "execution_count": null,
   "metadata": {},
   "outputs": [],
   "source": [
    "filter_score"
   ]
  },
  {
   "cell_type": "code",
   "execution_count": null,
   "metadata": {},
   "outputs": [],
   "source": [
    "%%time\n",
    "df = pd.read_csv(file_name)\n",
    "df.shape"
   ]
  },
  {
   "cell_type": "code",
   "execution_count": null,
   "metadata": {},
   "outputs": [],
   "source": [
    "df_keep = df.filter(vars_keep_list, axis=1)\n",
    "# df_keep = df[df.index.isin(vars_keep_list)]\n",
    "print(df_keep.shape)"
   ]
  },
  {
   "cell_type": "code",
   "execution_count": null,
   "metadata": {},
   "outputs": [],
   "source": [
    "df_keep.to_csv('vars_final.csv',index=False)"
   ]
  },
  {
   "cell_type": "code",
   "execution_count": null,
   "metadata": {},
   "outputs": [],
   "source": [
    "print(\"duration: \", dt.datetime.now() - start_time)"
   ]
  },
  {
   "cell_type": "code",
   "execution_count": null,
   "metadata": {},
   "outputs": [],
   "source": []
  }
 ],
 "metadata": {
  "anaconda-cloud": {},
  "kernelspec": {
   "display_name": "Python 3",
   "language": "python",
   "name": "python3"
  },
  "language_info": {
   "codemirror_mode": {
    "name": "ipython",
    "version": 3
   },
   "file_extension": ".py",
   "mimetype": "text/x-python",
   "name": "python",
   "nbconvert_exporter": "python",
   "pygments_lexer": "ipython3",
   "version": "3.8.8"
  }
 },
 "nbformat": 4,
 "nbformat_minor": 1
}
