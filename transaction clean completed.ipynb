{
 "cells": [
  {
   "cell_type": "code",
   "execution_count": 1,
   "id": "c0c48942",
   "metadata": {},
   "outputs": [],
   "source": [
    "import pandas as pd\n",
    "import scipy.stats\n",
    "import numpy as np\n",
    "import datetime as dt\n",
    "import seaborn as sns\n",
    "import matplotlib.pyplot as plt\n",
    "%matplotlib inline\n",
    "start_time = dt.datetime.now()"
   ]
  },
  {
   "cell_type": "code",
   "execution_count": 20,
   "id": "de62c731",
   "metadata": {},
   "outputs": [],
   "source": [
    "data = pd.read_csv('card transactions.csv')"
   ]
  },
  {
   "cell_type": "code",
   "execution_count": 21,
   "id": "60cdb513",
   "metadata": {},
   "outputs": [
    {
     "name": "stdout",
     "output_type": "stream",
     "text": [
      "<class 'pandas.core.frame.DataFrame'>\n",
      "RangeIndex: 96753 entries, 0 to 96752\n",
      "Data columns (total 18 columns):\n",
      " #   Column             Non-Null Count  Dtype  \n",
      "---  ------             --------------  -----  \n",
      " 0   Recnum             96753 non-null  int64  \n",
      " 1   Cardnum            96753 non-null  int64  \n",
      " 2   Date               96753 non-null  object \n",
      " 3   Merchnum           93378 non-null  object \n",
      " 4   Merch description  96753 non-null  object \n",
      " 5   Merch state        95558 non-null  object \n",
      " 6   Merch zip          92097 non-null  float64\n",
      " 7   Transtype          96753 non-null  object \n",
      " 8   Amount             96753 non-null  float64\n",
      " 9   Fraud              96753 non-null  int64  \n",
      " 10  Unnamed: 10        0 non-null      float64\n",
      " 11  Unnamed: 11        0 non-null      float64\n",
      " 12  Unnamed: 12        0 non-null      float64\n",
      " 13  Unnamed: 13        0 non-null      float64\n",
      " 14  Unnamed: 14        0 non-null      float64\n",
      " 15  Unnamed: 15        0 non-null      float64\n",
      " 16  Unnamed: 16        0 non-null      float64\n",
      " 17  Unnamed: 17        0 non-null      float64\n",
      "dtypes: float64(10), int64(3), object(5)\n",
      "memory usage: 13.3+ MB\n"
     ]
    }
   ],
   "source": [
    "data.info()"
   ]
  },
  {
   "cell_type": "code",
   "execution_count": 22,
   "id": "b68e4de3",
   "metadata": {},
   "outputs": [
    {
     "data": {
      "text/html": [
       "<div>\n",
       "<style scoped>\n",
       "    .dataframe tbody tr th:only-of-type {\n",
       "        vertical-align: middle;\n",
       "    }\n",
       "\n",
       "    .dataframe tbody tr th {\n",
       "        vertical-align: top;\n",
       "    }\n",
       "\n",
       "    .dataframe thead th {\n",
       "        text-align: right;\n",
       "    }\n",
       "</style>\n",
       "<table border=\"1\" class=\"dataframe\">\n",
       "  <thead>\n",
       "    <tr style=\"text-align: right;\">\n",
       "      <th></th>\n",
       "      <th>Recnum</th>\n",
       "      <th>Cardnum</th>\n",
       "      <th>Merch zip</th>\n",
       "      <th>Amount</th>\n",
       "      <th>Fraud</th>\n",
       "      <th>Unnamed: 10</th>\n",
       "      <th>Unnamed: 11</th>\n",
       "      <th>Unnamed: 12</th>\n",
       "      <th>Unnamed: 13</th>\n",
       "      <th>Unnamed: 14</th>\n",
       "      <th>Unnamed: 15</th>\n",
       "      <th>Unnamed: 16</th>\n",
       "      <th>Unnamed: 17</th>\n",
       "    </tr>\n",
       "  </thead>\n",
       "  <tbody>\n",
       "    <tr>\n",
       "      <th>count</th>\n",
       "      <td>96753.000000</td>\n",
       "      <td>9.675300e+04</td>\n",
       "      <td>92097.000000</td>\n",
       "      <td>9.675300e+04</td>\n",
       "      <td>96753.000000</td>\n",
       "      <td>0.0</td>\n",
       "      <td>0.0</td>\n",
       "      <td>0.0</td>\n",
       "      <td>0.0</td>\n",
       "      <td>0.0</td>\n",
       "      <td>0.0</td>\n",
       "      <td>0.0</td>\n",
       "      <td>0.0</td>\n",
       "    </tr>\n",
       "    <tr>\n",
       "      <th>mean</th>\n",
       "      <td>48377.000000</td>\n",
       "      <td>5.142202e+09</td>\n",
       "      <td>44706.596740</td>\n",
       "      <td>4.278857e+02</td>\n",
       "      <td>0.010945</td>\n",
       "      <td>NaN</td>\n",
       "      <td>NaN</td>\n",
       "      <td>NaN</td>\n",
       "      <td>NaN</td>\n",
       "      <td>NaN</td>\n",
       "      <td>NaN</td>\n",
       "      <td>NaN</td>\n",
       "      <td>NaN</td>\n",
       "    </tr>\n",
       "    <tr>\n",
       "      <th>std</th>\n",
       "      <td>27930.329635</td>\n",
       "      <td>5.567084e+04</td>\n",
       "      <td>28369.537945</td>\n",
       "      <td>1.000614e+04</td>\n",
       "      <td>0.104047</td>\n",
       "      <td>NaN</td>\n",
       "      <td>NaN</td>\n",
       "      <td>NaN</td>\n",
       "      <td>NaN</td>\n",
       "      <td>NaN</td>\n",
       "      <td>NaN</td>\n",
       "      <td>NaN</td>\n",
       "      <td>NaN</td>\n",
       "    </tr>\n",
       "    <tr>\n",
       "      <th>min</th>\n",
       "      <td>1.000000</td>\n",
       "      <td>5.142110e+09</td>\n",
       "      <td>1.000000</td>\n",
       "      <td>1.000000e-02</td>\n",
       "      <td>0.000000</td>\n",
       "      <td>NaN</td>\n",
       "      <td>NaN</td>\n",
       "      <td>NaN</td>\n",
       "      <td>NaN</td>\n",
       "      <td>NaN</td>\n",
       "      <td>NaN</td>\n",
       "      <td>NaN</td>\n",
       "      <td>NaN</td>\n",
       "    </tr>\n",
       "    <tr>\n",
       "      <th>25%</th>\n",
       "      <td>24189.000000</td>\n",
       "      <td>5.142152e+09</td>\n",
       "      <td>20855.000000</td>\n",
       "      <td>3.348000e+01</td>\n",
       "      <td>0.000000</td>\n",
       "      <td>NaN</td>\n",
       "      <td>NaN</td>\n",
       "      <td>NaN</td>\n",
       "      <td>NaN</td>\n",
       "      <td>NaN</td>\n",
       "      <td>NaN</td>\n",
       "      <td>NaN</td>\n",
       "      <td>NaN</td>\n",
       "    </tr>\n",
       "    <tr>\n",
       "      <th>50%</th>\n",
       "      <td>48377.000000</td>\n",
       "      <td>5.142196e+09</td>\n",
       "      <td>38118.000000</td>\n",
       "      <td>1.379800e+02</td>\n",
       "      <td>0.000000</td>\n",
       "      <td>NaN</td>\n",
       "      <td>NaN</td>\n",
       "      <td>NaN</td>\n",
       "      <td>NaN</td>\n",
       "      <td>NaN</td>\n",
       "      <td>NaN</td>\n",
       "      <td>NaN</td>\n",
       "      <td>NaN</td>\n",
       "    </tr>\n",
       "    <tr>\n",
       "      <th>75%</th>\n",
       "      <td>72565.000000</td>\n",
       "      <td>5.142246e+09</td>\n",
       "      <td>63103.000000</td>\n",
       "      <td>4.282000e+02</td>\n",
       "      <td>0.000000</td>\n",
       "      <td>NaN</td>\n",
       "      <td>NaN</td>\n",
       "      <td>NaN</td>\n",
       "      <td>NaN</td>\n",
       "      <td>NaN</td>\n",
       "      <td>NaN</td>\n",
       "      <td>NaN</td>\n",
       "      <td>NaN</td>\n",
       "    </tr>\n",
       "    <tr>\n",
       "      <th>max</th>\n",
       "      <td>96753.000000</td>\n",
       "      <td>5.142847e+09</td>\n",
       "      <td>99999.000000</td>\n",
       "      <td>3.102046e+06</td>\n",
       "      <td>1.000000</td>\n",
       "      <td>NaN</td>\n",
       "      <td>NaN</td>\n",
       "      <td>NaN</td>\n",
       "      <td>NaN</td>\n",
       "      <td>NaN</td>\n",
       "      <td>NaN</td>\n",
       "      <td>NaN</td>\n",
       "      <td>NaN</td>\n",
       "    </tr>\n",
       "  </tbody>\n",
       "</table>\n",
       "</div>"
      ],
      "text/plain": [
       "             Recnum       Cardnum     Merch zip        Amount         Fraud  \\\n",
       "count  96753.000000  9.675300e+04  92097.000000  9.675300e+04  96753.000000   \n",
       "mean   48377.000000  5.142202e+09  44706.596740  4.278857e+02      0.010945   \n",
       "std    27930.329635  5.567084e+04  28369.537945  1.000614e+04      0.104047   \n",
       "min        1.000000  5.142110e+09      1.000000  1.000000e-02      0.000000   \n",
       "25%    24189.000000  5.142152e+09  20855.000000  3.348000e+01      0.000000   \n",
       "50%    48377.000000  5.142196e+09  38118.000000  1.379800e+02      0.000000   \n",
       "75%    72565.000000  5.142246e+09  63103.000000  4.282000e+02      0.000000   \n",
       "max    96753.000000  5.142847e+09  99999.000000  3.102046e+06      1.000000   \n",
       "\n",
       "       Unnamed: 10  Unnamed: 11  Unnamed: 12  Unnamed: 13  Unnamed: 14  \\\n",
       "count          0.0          0.0          0.0          0.0          0.0   \n",
       "mean           NaN          NaN          NaN          NaN          NaN   \n",
       "std            NaN          NaN          NaN          NaN          NaN   \n",
       "min            NaN          NaN          NaN          NaN          NaN   \n",
       "25%            NaN          NaN          NaN          NaN          NaN   \n",
       "50%            NaN          NaN          NaN          NaN          NaN   \n",
       "75%            NaN          NaN          NaN          NaN          NaN   \n",
       "max            NaN          NaN          NaN          NaN          NaN   \n",
       "\n",
       "       Unnamed: 15  Unnamed: 16  Unnamed: 17  \n",
       "count          0.0          0.0          0.0  \n",
       "mean           NaN          NaN          NaN  \n",
       "std            NaN          NaN          NaN  \n",
       "min            NaN          NaN          NaN  \n",
       "25%            NaN          NaN          NaN  \n",
       "50%            NaN          NaN          NaN  \n",
       "75%            NaN          NaN          NaN  \n",
       "max            NaN          NaN          NaN  "
      ]
     },
     "execution_count": 22,
     "metadata": {},
     "output_type": "execute_result"
    }
   ],
   "source": [
    "data.describe()"
   ]
  },
  {
   "cell_type": "code",
   "execution_count": 23,
   "id": "747172b5",
   "metadata": {},
   "outputs": [],
   "source": [
    "data.drop(columns=['Unnamed: 10', 'Unnamed: 11', 'Unnamed: 12', 'Unnamed: 13',\n",
    "       'Unnamed: 14', 'Unnamed: 15', 'Unnamed: 16', 'Unnamed: 17'], inplace=True)"
   ]
  },
  {
   "cell_type": "code",
   "execution_count": null,
   "id": "af807560",
   "metadata": {},
   "outputs": [],
   "source": [
    "data['Date'] =  pd.to_datetime(data['Date'])"
   ]
  },
  {
   "cell_type": "code",
   "execution_count": 24,
   "id": "3baefcdc",
   "metadata": {},
   "outputs": [
    {
     "data": {
      "text/plain": [
       "Recnum                  0\n",
       "Cardnum                 0\n",
       "Date                    0\n",
       "Merchnum             3375\n",
       "Merch description       0\n",
       "Merch state          1195\n",
       "Merch zip            4656\n",
       "Transtype               0\n",
       "Amount                  0\n",
       "Fraud                   0\n",
       "dtype: int64"
      ]
     },
     "execution_count": 24,
     "metadata": {},
     "output_type": "execute_result"
    }
   ],
   "source": [
    "data.isna().sum()"
   ]
  },
  {
   "cell_type": "markdown",
   "id": "80ef44ab",
   "metadata": {},
   "source": [
    "### Keep only Purchase data"
   ]
  },
  {
   "cell_type": "code",
   "execution_count": 25,
   "id": "d455a66a",
   "metadata": {},
   "outputs": [
    {
     "data": {
      "text/html": [
       "<div>\n",
       "<style scoped>\n",
       "    .dataframe tbody tr th:only-of-type {\n",
       "        vertical-align: middle;\n",
       "    }\n",
       "\n",
       "    .dataframe tbody tr th {\n",
       "        vertical-align: top;\n",
       "    }\n",
       "\n",
       "    .dataframe thead th {\n",
       "        text-align: right;\n",
       "    }\n",
       "</style>\n",
       "<table border=\"1\" class=\"dataframe\">\n",
       "  <thead>\n",
       "    <tr style=\"text-align: right;\">\n",
       "      <th></th>\n",
       "      <th>Recnum</th>\n",
       "      <th>Cardnum</th>\n",
       "      <th>Date</th>\n",
       "      <th>Merchnum</th>\n",
       "      <th>Merch description</th>\n",
       "      <th>Merch state</th>\n",
       "      <th>Merch zip</th>\n",
       "      <th>Transtype</th>\n",
       "      <th>Amount</th>\n",
       "      <th>Fraud</th>\n",
       "    </tr>\n",
       "  </thead>\n",
       "  <tbody>\n",
       "    <tr>\n",
       "      <th>0</th>\n",
       "      <td>1</td>\n",
       "      <td>5142190439</td>\n",
       "      <td>1/1/10</td>\n",
       "      <td>5509006296254</td>\n",
       "      <td>FEDEX SHP 12/23/09 AB#</td>\n",
       "      <td>TN</td>\n",
       "      <td>38118.0</td>\n",
       "      <td>P</td>\n",
       "      <td>3.62</td>\n",
       "      <td>0</td>\n",
       "    </tr>\n",
       "    <tr>\n",
       "      <th>1</th>\n",
       "      <td>2</td>\n",
       "      <td>5142183973</td>\n",
       "      <td>1/1/10</td>\n",
       "      <td>61003026333</td>\n",
       "      <td>SERVICE MERCHANDISE #81</td>\n",
       "      <td>MA</td>\n",
       "      <td>1803.0</td>\n",
       "      <td>P</td>\n",
       "      <td>31.42</td>\n",
       "      <td>0</td>\n",
       "    </tr>\n",
       "    <tr>\n",
       "      <th>2</th>\n",
       "      <td>3</td>\n",
       "      <td>5142131721</td>\n",
       "      <td>1/1/10</td>\n",
       "      <td>4503082993600</td>\n",
       "      <td>OFFICE DEPOT #191</td>\n",
       "      <td>MD</td>\n",
       "      <td>20706.0</td>\n",
       "      <td>P</td>\n",
       "      <td>178.49</td>\n",
       "      <td>0</td>\n",
       "    </tr>\n",
       "    <tr>\n",
       "      <th>3</th>\n",
       "      <td>4</td>\n",
       "      <td>5142148452</td>\n",
       "      <td>1/1/10</td>\n",
       "      <td>5509006296254</td>\n",
       "      <td>FEDEX SHP 12/28/09 AB#</td>\n",
       "      <td>TN</td>\n",
       "      <td>38118.0</td>\n",
       "      <td>P</td>\n",
       "      <td>3.62</td>\n",
       "      <td>0</td>\n",
       "    </tr>\n",
       "    <tr>\n",
       "      <th>4</th>\n",
       "      <td>5</td>\n",
       "      <td>5142190439</td>\n",
       "      <td>1/1/10</td>\n",
       "      <td>5509006296254</td>\n",
       "      <td>FEDEX SHP 12/23/09 AB#</td>\n",
       "      <td>TN</td>\n",
       "      <td>38118.0</td>\n",
       "      <td>P</td>\n",
       "      <td>3.62</td>\n",
       "      <td>0</td>\n",
       "    </tr>\n",
       "  </tbody>\n",
       "</table>\n",
       "</div>"
      ],
      "text/plain": [
       "   Recnum     Cardnum    Date       Merchnum        Merch description  \\\n",
       "0       1  5142190439  1/1/10  5509006296254   FEDEX SHP 12/23/09 AB#   \n",
       "1       2  5142183973  1/1/10    61003026333  SERVICE MERCHANDISE #81   \n",
       "2       3  5142131721  1/1/10  4503082993600        OFFICE DEPOT #191   \n",
       "3       4  5142148452  1/1/10  5509006296254   FEDEX SHP 12/28/09 AB#   \n",
       "4       5  5142190439  1/1/10  5509006296254   FEDEX SHP 12/23/09 AB#   \n",
       "\n",
       "  Merch state  Merch zip Transtype  Amount  Fraud  \n",
       "0          TN    38118.0         P    3.62      0  \n",
       "1          MA     1803.0         P   31.42      0  \n",
       "2          MD    20706.0         P  178.49      0  \n",
       "3          TN    38118.0         P    3.62      0  \n",
       "4          TN    38118.0         P    3.62      0  "
      ]
     },
     "execution_count": 25,
     "metadata": {},
     "output_type": "execute_result"
    }
   ],
   "source": [
    "data = data[data['Transtype'] == 'P']\n",
    "data.head()"
   ]
  },
  {
   "cell_type": "code",
   "execution_count": 26,
   "id": "8e0a6993",
   "metadata": {},
   "outputs": [
    {
     "data": {
      "text/plain": [
       "(96398, 10)"
      ]
     },
     "execution_count": 26,
     "metadata": {},
     "output_type": "execute_result"
    }
   ],
   "source": [
    "data.shape"
   ]
  },
  {
   "cell_type": "markdown",
   "id": "adb3948b",
   "metadata": {},
   "source": [
    "### Remove outlier"
   ]
  },
  {
   "cell_type": "code",
   "execution_count": 27,
   "id": "e7ada0f3",
   "metadata": {},
   "outputs": [
    {
     "data": {
      "text/plain": [
       "3102045.53"
      ]
     },
     "execution_count": 27,
     "metadata": {},
     "output_type": "execute_result"
    }
   ],
   "source": [
    "data['Amount'].max()"
   ]
  },
  {
   "cell_type": "code",
   "execution_count": 28,
   "id": "53c3dbde",
   "metadata": {},
   "outputs": [],
   "source": [
    "data.drop(data['Amount'].idxmax(), inplace=True)"
   ]
  },
  {
   "cell_type": "code",
   "execution_count": 29,
   "id": "ff50345a",
   "metadata": {},
   "outputs": [
    {
     "data": {
      "text/plain": [
       "(96397, 10)"
      ]
     },
     "execution_count": 29,
     "metadata": {},
     "output_type": "execute_result"
    }
   ],
   "source": [
    "data.shape"
   ]
  },
  {
   "attachments": {},
   "cell_type": "markdown",
   "id": "9048b74e",
   "metadata": {},
   "source": [
    "### fill in missing fields"
   ]
  },
  {
   "cell_type": "code",
   "execution_count": 30,
   "id": "9b68d731",
   "metadata": {},
   "outputs": [
    {
     "data": {
      "text/plain": [
       "Recnum                  0\n",
       "Cardnum                 0\n",
       "Date                    0\n",
       "Merchnum             3198\n",
       "Merch description       0\n",
       "Merch state          1020\n",
       "Merch zip            4300\n",
       "Transtype               0\n",
       "Amount                  0\n",
       "Fraud                   0\n",
       "dtype: int64"
      ]
     },
     "execution_count": 30,
     "metadata": {},
     "output_type": "execute_result"
    }
   ],
   "source": [
    "data.isna().sum()"
   ]
  },
  {
   "cell_type": "markdown",
   "id": "2af3c869",
   "metadata": {},
   "source": [
    "#### Merchnum"
   ]
  },
  {
   "cell_type": "code",
   "execution_count": 31,
   "id": "68a75e70",
   "metadata": {},
   "outputs": [],
   "source": [
    "# replace missing Merchnums with the most common Merchnum for each Merch description"
   ]
  },
  {
   "cell_type": "code",
   "execution_count": 32,
   "id": "853c8a6c",
   "metadata": {},
   "outputs": [],
   "source": [
    "data['Merchnum'] = data['Merchnum'].replace({'0': np.nan})"
   ]
  },
  {
   "cell_type": "code",
   "execution_count": 33,
   "id": "3308c180",
   "metadata": {},
   "outputs": [
    {
     "data": {
      "text/plain": [
       "3251"
      ]
     },
     "execution_count": 33,
     "metadata": {},
     "output_type": "execute_result"
    }
   ],
   "source": [
    "data['Merchnum'].isnull().sum()"
   ]
  },
  {
   "cell_type": "code",
   "execution_count": 34,
   "id": "54467550",
   "metadata": {},
   "outputs": [],
   "source": [
    "merchdes_merchnum = {}\n",
    "for index, merchdes in data[data['Merch description'].notnull()]['Merch description'].items():\n",
    "    if pd.isnull(merchdes) == True:\n",
    "        continue\n",
    "    elif merchdes not in merchdes_merchnum :\n",
    "        merchdes_merchnum[merchdes] = data.loc[index, 'Merchnum']\n",
    "\n",
    "# fill in by mapping with Merch description\n",
    "data['Merchnum'] = data['Merchnum'].fillna(data['Merch description'].map(merchdes_merchnum))\n"
   ]
  },
  {
   "cell_type": "code",
   "execution_count": 35,
   "id": "3427b3cd",
   "metadata": {},
   "outputs": [
    {
     "data": {
      "text/plain": [
       "2962"
      ]
     },
     "execution_count": 35,
     "metadata": {},
     "output_type": "execute_result"
    }
   ],
   "source": [
    "data['Merchnum'].isnull().sum()"
   ]
  },
  {
   "cell_type": "code",
   "execution_count": 39,
   "id": "877960ae",
   "metadata": {},
   "outputs": [],
   "source": [
    "# assign unknown for adjustments transactions\n",
    "data['Merchnum'] = data['Merchnum'].mask(data['Merch description'] == 'RETAIL CREDIT ADJUSTMENT', 'unknown')\n",
    "data['Merchnum'] = data['Merchnum'].mask(data['Merch description'] == 'RETAIL DEBIT ADJUSTMENT', 'unknown')\n"
   ]
  },
  {
   "cell_type": "code",
   "execution_count": 41,
   "id": "7d381774",
   "metadata": {},
   "outputs": [
    {
     "data": {
      "text/plain": [
       "array(['GRAINGER #973', 'AUTOMATED OFFICE PRODU', 'ROLL CALL NEWSPAPER',\n",
       "       'MONTGOMERY COLLEGE-PHONE', 'ARGENT CHEMICAL LABS', 'CHEMUNEX',\n",
       "       'TEKMAR COMPANY', 'OPERON TECHNOLOGIES INC', 'PACKAGE PLACE  THE',\n",
       "       'CUBIX CORPORATION', 'SIGNAL GRAPHICS PRINTING', 'GRAINGER #932',\n",
       "       'SUNSET LABORATORY', 'AUTO PARTS MACHINE SHOP',\n",
       "       'THE AMERICAN PHYSIOLOGICA', 'C & M OFFICE EQUIPMENT',\n",
       "       'HACH COMPANY', 'MOLECULAR PROBES INC.', 'OSU BOOKSTORES INC',\n",
       "       'LEGASYS INTERNATIONAL INC'], dtype=object)"
      ]
     },
     "execution_count": 41,
     "metadata": {},
     "output_type": "execute_result"
    }
   ],
   "source": [
    "data.loc[data.Merchnum.isna(), 'Merch description'].unique()[:20]"
   ]
  },
  {
   "cell_type": "code",
   "execution_count": 42,
   "id": "4006e291",
   "metadata": {},
   "outputs": [
    {
     "data": {
      "text/plain": [
       "663"
      ]
     },
     "execution_count": 42,
     "metadata": {},
     "output_type": "execute_result"
    }
   ],
   "source": [
    "data.loc[data['Merchnum'].isnull(), 'Merch description'].nunique()"
   ]
  },
  {
   "cell_type": "code",
   "execution_count": 40,
   "id": "3e3dea79",
   "metadata": {},
   "outputs": [],
   "source": [
    "# for those with no matches"
   ]
  },
  {
   "cell_type": "code",
   "execution_count": 43,
   "id": "25427259",
   "metadata": {},
   "outputs": [],
   "source": [
    "# add new merchnums \n",
    "# each new unique merchnum will be max(merchnum) + 1\n",
    "merchnum_create = {}\n",
    "max_merchnum = pd.to_numeric(data.Merchnum, errors='coerce').max()\n",
    "for merch_desc in data.loc[data.Merchnum.isna(), 'Merch description'].unique():\n",
    "    merchnum_create[merch_desc] = str(int(max_merchnum + 1))\n",
    "    max_merchnum += 1"
   ]
  },
  {
   "cell_type": "code",
   "execution_count": 44,
   "id": "f0f1529f",
   "metadata": {},
   "outputs": [],
   "source": [
    "# mapping with Merch description\n",
    "data['Merchnum'] = data['Merchnum'].fillna(data['Merch description'].map(merchnum_create))"
   ]
  },
  {
   "cell_type": "code",
   "execution_count": 45,
   "id": "843ef507",
   "metadata": {},
   "outputs": [
    {
     "data": {
      "text/plain": [
       "0"
      ]
     },
     "execution_count": 45,
     "metadata": {},
     "output_type": "execute_result"
    }
   ],
   "source": [
    "data['Merchnum'].isnull().sum()"
   ]
  },
  {
   "cell_type": "markdown",
   "id": "0b372ae5",
   "metadata": {},
   "source": [
    "#### Merch state"
   ]
  },
  {
   "cell_type": "code",
   "execution_count": 46,
   "id": "d4732cd3",
   "metadata": {},
   "outputs": [
    {
     "data": {
      "text/plain": [
       "1020"
      ]
     },
     "execution_count": 46,
     "metadata": {},
     "output_type": "execute_result"
    }
   ],
   "source": [
    "data['Merch state'].isnull().sum()"
   ]
  },
  {
   "cell_type": "code",
   "execution_count": 48,
   "id": "01d1a2be",
   "metadata": {},
   "outputs": [
    {
     "data": {
      "text/plain": [
       "array([9.2600e+02, 9.2900e+02, 1.4000e+03, 6.5132e+04, 8.6899e+04,\n",
       "       2.3080e+04, 6.0528e+04, 9.3400e+02, 9.0200e+02, 7.3800e+02,\n",
       "       9.0805e+04, 7.6302e+04, 9.0000e+00, 9.1400e+02, 6.0000e+00,\n",
       "       9.5461e+04, 5.0823e+04, 2.0000e+00, 4.8700e+04, 6.8000e+02,\n",
       "       1.0000e+00, 6.8100e+02, 6.2300e+02, 7.2600e+02, 9.3600e+02,\n",
       "       1.2108e+04, 7.9100e+02, 9.0700e+02, 9.2200e+02, 9.2000e+02,\n",
       "       3.0000e+00, 8.0100e+02, 8.0000e+00, 3.1040e+04, 3.8117e+04,\n",
       "       4.1160e+04])"
      ]
     },
     "execution_count": 48,
     "metadata": {},
     "output_type": "execute_result"
    }
   ],
   "source": [
    "data[(data['Merch state'].isnull()) & (data['Merch zip'].notnull())]['Merch zip'].unique()"
   ]
  },
  {
   "cell_type": "code",
   "execution_count": 49,
   "id": "3a6620f6",
   "metadata": {},
   "outputs": [],
   "source": [
    "# dict for mapping\n",
    "zip_state = {}\n",
    "for index, zip5 in data[data['Merch zip'].notnull()]['Merch zip'].items():\n",
    "    if zip5 not in zip_state:\n",
    "        zip_state[zip5] = data.loc[index, 'Merch state']\n",
    "        \n",
    "zip_state['00926'] = 'PR'\n",
    "zip_state['00929'] = 'PR'\n",
    "zip_state['00934'] = 'PR'\n",
    "zip_state['00902'] = 'PR'\n",
    "zip_state['00738'] = 'PR'\n",
    "zip_state['90805'] = 'CA'\n",
    "zip_state['76302'] = 'TX'\n",
    "zip_state['00914'] = 'PR'\n",
    "zip_state['95461'] = 'CA'\n",
    "zip_state['00680'] = 'PR'\n",
    "zip_state['00623'] = 'PR'\n",
    "zip_state['00726'] = 'PR'\n",
    "zip_state['00936'] = 'PR'\n",
    "zip_state['12108'] = 'NY'\n",
    "zip_state['00791'] = 'PR'\n",
    "zip_state['00907'] = 'PR'\n",
    "zip_state['00922'] = 'PR'\n",
    "zip_state['00920'] = 'PR'\n",
    "zip_state['00801'] = 'VI'\n",
    "zip_state['31040'] = 'GA'\n",
    "zip_state['41160'] = 'KY'\n",
    "zip_state['00681'] = 'PR'\n",
    "zip_state['38117'] = 'TN'\n"
   ]
  },
  {
   "cell_type": "code",
   "execution_count": 51,
   "id": "7228165b",
   "metadata": {},
   "outputs": [],
   "source": [
    "merchnum_state = {}\n",
    "for index, merchnum in data[data['Merchnum'].notnull()]['Merchnum'].items():\n",
    "    if merchnum not in merchnum_state :\n",
    "        merchnum_state [merchnum] = data.loc[index, 'Merch state']\n"
   ]
  },
  {
   "cell_type": "code",
   "execution_count": 52,
   "id": "36c0678a",
   "metadata": {},
   "outputs": [],
   "source": [
    "merchdes_state = {}\n",
    "for index, merchdes in data[data['Merch description'].notnull()]['Merch description'].items():\n",
    "    if merchdes not in merchdes_state :\n",
    "        merchdes_state [merchdes] = data.loc[index, 'Merch state']\n"
   ]
  },
  {
   "cell_type": "code",
   "execution_count": 54,
   "id": "855509d7",
   "metadata": {},
   "outputs": [],
   "source": [
    "# fill in by mapping with zip, merchnum and merch description\n",
    "data['Merch state'] = data['Merch state'].fillna(data['Merch zip'].map(zip_state))\n",
    "data['Merch state'] = data['Merch state'].fillna(data['Merchnum'].map(merchnum_state))\n",
    "data['Merch state'] = data['Merch state'].fillna(data['Merch description'].map(merchdes_state))\n",
    "\n",
    "# assign unknown for adjustments transactions\n",
    "data['Merch state'] = data['Merch state'].mask(data['Merch description'] == 'RETAIL CREDIT ADJUSTMENT', 'unknown')\n",
    "data['Merch state'] = data['Merch state'].mask(data['Merch description'] == 'RETAIL DEBIT ADJUSTMENT', 'unknown')\n"
   ]
  },
  {
   "cell_type": "code",
   "execution_count": 55,
   "id": "195e319e",
   "metadata": {},
   "outputs": [
    {
     "data": {
      "text/plain": [
       "346"
      ]
     },
     "execution_count": 55,
     "metadata": {},
     "output_type": "execute_result"
    }
   ],
   "source": [
    "data['Merch state'].isnull().sum()"
   ]
  },
  {
   "cell_type": "code",
   "execution_count": 56,
   "id": "bb4d146f",
   "metadata": {},
   "outputs": [
    {
     "data": {
      "text/plain": [
       "4300"
      ]
     },
     "execution_count": 56,
     "metadata": {},
     "output_type": "execute_result"
    }
   ],
   "source": [
    "data['Merch zip'].isnull().sum()"
   ]
  },
  {
   "cell_type": "code",
   "execution_count": 57,
   "id": "5a8144e9",
   "metadata": {},
   "outputs": [],
   "source": [
    "# non-US states and zipcodes\n",
    "\n",
    "states = [ 'AK', 'AL', 'AR', 'AZ', 'CA', 'CO', 'CT', 'DC', 'DE', 'FL', 'GA',\n",
    "           'HI', 'IA', 'ID', 'IL', 'IN', 'KS', 'KY', 'LA', 'MA', 'MD', 'ME',\n",
    "           'MI', 'MN', 'MO', 'MS', 'MT', 'NC', 'ND', 'NE', 'NH', 'NJ', 'NM',\n",
    "           'NV', 'NY', 'OH', 'OK', 'OR', 'PA', 'RI', 'SC', 'SD', 'TN', 'TX',\n",
    "           'UT', 'VA', 'VT', 'WA', 'WI', 'WV', 'WY', np.nan, 'unknown']\n",
    "\n",
    "for index, state in data['Merch state'].items():\n",
    "    if state not in states:\n",
    "        data.loc[index, 'Merch state'] = 'foreign'\n",
    "\n",
    "# leftovers from the unlabeled zipcode list\n",
    "foreign_ziplist = ['01400','65132', '86899', '23080', '60528', '00009', '00006', '50823',\n",
    "'00002', '48700', '00001', '00003', '00008']\n",
    "for index, zipcode in data['Merch zip'].items():\n",
    "    if zipcode in foreign_ziplist:\n",
    "        data.loc[index, 'Merch state'] = 'foreign'\n",
    "        \n"
   ]
  },
  {
   "cell_type": "code",
   "execution_count": 58,
   "id": "c9d8b7b5",
   "metadata": {},
   "outputs": [],
   "source": [
    "data['Merch state'].fillna('unknown', inplace=True)"
   ]
  },
  {
   "cell_type": "code",
   "execution_count": 59,
   "id": "443bb563",
   "metadata": {},
   "outputs": [
    {
     "data": {
      "text/plain": [
       "0"
      ]
     },
     "execution_count": 59,
     "metadata": {},
     "output_type": "execute_result"
    }
   ],
   "source": [
    "data['Merch state'].isnull().sum()"
   ]
  },
  {
   "cell_type": "markdown",
   "id": "120a57b4",
   "metadata": {},
   "source": [
    "#### Merch zip"
   ]
  },
  {
   "cell_type": "code",
   "execution_count": 61,
   "id": "7e11a223",
   "metadata": {},
   "outputs": [
    {
     "data": {
      "text/plain": [
       "4300"
      ]
     },
     "execution_count": 61,
     "metadata": {},
     "output_type": "execute_result"
    }
   ],
   "source": [
    "data['Merch zip'].isnull().sum()"
   ]
  },
  {
   "cell_type": "code",
   "execution_count": 62,
   "id": "88f56d03",
   "metadata": {},
   "outputs": [],
   "source": [
    "merchnum_zip = {}\n",
    "for index, merchnum in data[data['Merchnum'].notnull()]['Merchnum'].items():\n",
    "    if merchnum not in merchnum_zip:\n",
    "        merchnum_zip[merchnum] = data.loc[index, 'Merch zip']"
   ]
  },
  {
   "cell_type": "code",
   "execution_count": 63,
   "id": "e32a745d",
   "metadata": {},
   "outputs": [],
   "source": [
    "merchdes_zip = {}\n",
    "for index, merchdes in data[data['Merch description'].notnull()]['Merch description'].items():\n",
    "    if merchdes not in merchnum_zip:\n",
    "        merchdes_zip[merchdes] = data.loc[index, 'Merch zip']"
   ]
  },
  {
   "cell_type": "code",
   "execution_count": 64,
   "id": "2bfff7ee",
   "metadata": {},
   "outputs": [],
   "source": [
    "#fill in by mapping with merchnum and merch description\n",
    "data['Merch zip'] = data['Merch zip'].fillna(data['Merchnum'].map(merchnum_zip))\n",
    "data['Merch zip'] = data['Merch zip'].fillna(data['Merch description'].map(merchdes_zip))\n"
   ]
  },
  {
   "cell_type": "code",
   "execution_count": 65,
   "id": "0ee548da",
   "metadata": {},
   "outputs": [
    {
     "data": {
      "text/plain": [
       "2570"
      ]
     },
     "execution_count": 65,
     "metadata": {},
     "output_type": "execute_result"
    }
   ],
   "source": [
    "data['Merch zip'].isnull().sum()"
   ]
  },
  {
   "cell_type": "code",
   "execution_count": 70,
   "id": "5c033d61",
   "metadata": {},
   "outputs": [],
   "source": [
    "# assign unknown for adjustments transactions\n",
    "data['Merch zip'] = data['Merch zip'].mask(data['Merch description'] == 'RETAIL CREDIT ADJUSTMENT', 'unknown')\n",
    "data['Merch zip'] = data['Merch zip'].mask(data['Merch description'] == 'RETAIL DEBIT ADJUSTMENT', 'unknown')"
   ]
  },
  {
   "cell_type": "code",
   "execution_count": 74,
   "id": "c71b951d",
   "metadata": {},
   "outputs": [],
   "source": [
    "data['Merch zip'].fillna('unknown', inplace=True)"
   ]
  },
  {
   "cell_type": "code",
   "execution_count": 75,
   "id": "a5eea76b",
   "metadata": {},
   "outputs": [
    {
     "data": {
      "text/plain": [
       "0"
      ]
     },
     "execution_count": 75,
     "metadata": {},
     "output_type": "execute_result"
    }
   ],
   "source": [
    "data['Merch zip'].isnull().sum()"
   ]
  },
  {
   "cell_type": "code",
   "execution_count": 76,
   "id": "c52dad7a",
   "metadata": {},
   "outputs": [
    {
     "data": {
      "text/plain": [
       "Recnum               0\n",
       "Cardnum              0\n",
       "Date                 0\n",
       "Merchnum             0\n",
       "Merch description    0\n",
       "Merch state          0\n",
       "Merch zip            0\n",
       "Transtype            0\n",
       "Amount               0\n",
       "Fraud                0\n",
       "dtype: int64"
      ]
     },
     "execution_count": 76,
     "metadata": {},
     "output_type": "execute_result"
    }
   ],
   "source": [
    "data.isnull().sum()"
   ]
  },
  {
   "cell_type": "code",
   "execution_count": 77,
   "id": "64f05e46",
   "metadata": {},
   "outputs": [],
   "source": [
    "data.to_csv('card transaction cleaned.csv',index=False)"
   ]
  },
  {
   "cell_type": "code",
   "execution_count": null,
   "id": "4dc22559",
   "metadata": {},
   "outputs": [],
   "source": []
  }
 ],
 "metadata": {
  "kernelspec": {
   "display_name": "Python 3",
   "language": "python",
   "name": "python3"
  },
  "language_info": {
   "codemirror_mode": {
    "name": "ipython",
    "version": 3
   },
   "file_extension": ".py",
   "mimetype": "text/x-python",
   "name": "python",
   "nbconvert_exporter": "python",
   "pygments_lexer": "ipython3",
   "version": "3.8.8"
  }
 },
 "nbformat": 4,
 "nbformat_minor": 5
}
